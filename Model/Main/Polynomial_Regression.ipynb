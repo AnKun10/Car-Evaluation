{
  "cells": [
    {
      "cell_type": "markdown",
      "metadata": {
        "id": "oShQM8XKgAxv"
      },
      "source": [
        "# **1. Import required libraries**"
      ]
    },
    {
      "cell_type": "code",
      "execution_count": null,
      "metadata": {
        "id": "ATX_XEN8f1iJ"
      },
      "outputs": [],
      "source": [
        "import pandas as pd\n",
        "from sklearn.model_selection import train_test_split\n",
        "from sklearn.linear_model import LinearRegression\n",
        "from sklearn.metrics import mean_squared_error,r2_score\n",
        "from sklearn.preprocessing import OneHotEncoder, LabelEncoder\n",
        "from sklearn.preprocessing import PolynomialFeatures\n",
        "import numpy as np"
      ]
    },
    {
      "cell_type": "markdown",
      "metadata": {
        "id": "KKLokg9ggQWW"
      },
      "source": [
        "# **2. Data Processing**"
      ]
    },
    {
      "cell_type": "code",
      "execution_count": null,
      "metadata": {
        "id": "hpKwJG5RgPqd"
      },
      "outputs": [],
      "source": [
        "df = pd.read_csv('.../Car-Evaluation/Dataset/Final/DataVersion3.csv')\n",
        "df = df.drop(['ad_id', 'car_name'], axis=1)\n",
        "\n",
        "# Save'price_in_billion' as target\n",
        "price_column = df['price_in_billion']\n",
        "df = df.drop(columns=['price_in_billion'])\n",
        "\n",
        "# Prepare for encoding\n",
        "columns_for_encoding = ['origin', 'car_model', 'exterior_color', 'interior_color', 'engine', 'transmission', 'drive_type']\n",
        "\n",
        "# Label Encoding\n",
        "label_encoders = {}\n",
        "for column in columns_for_encoding:\n",
        "    le = LabelEncoder()\n",
        "    df[column] = le.fit_transform(df[column])\n",
        "    label_encoders[column] = le\n",
        "df['price_in_billion'] = price_column\n",
        "df = df.dropna()\n",
        "\n",
        "# Devide into features and target\n",
        "features = df.drop(columns=['price_in_billion'])\n",
        "target = df['price_in_billion']"
      ]
    },
    {
      "cell_type": "markdown",
      "metadata": {
        "id": "kdXOtjuCgb1P"
      },
      "source": [
        "# **3. Build Multi Regression Model**"
      ]
    },
    {
      "cell_type": "code",
      "execution_count": null,
      "metadata": {
        "colab": {
          "base_uri": "https://localhost:8080/",
          "height": 75
        },
        "id": "7CQImKvNggX7",
        "outputId": "76161f0f-a0f3-4a01-8e8c-78ed72b83522"
      },
      "outputs": [],
      "source": [
        "X_train, X_test, y_train, y_test = train_test_split(features, target, test_size=0.2, random_state=42)\n",
        "poly_features = PolynomialFeatures(degree=2, include_bias=True)\n",
        "X_train_poly = poly_features.fit_transform(X_train)\n",
        "X_test_poly = poly_features.transform(X_test)\n",
        "\n",
        "# Train Regression model on Polynomial features\n",
        "model = LinearRegression()\n",
        "model.fit(X_train_poly, y_train)\n",
        "#ridge_model = Ridge(alpha=1.0)\n",
        "#ridge_model.fit(X_train_poly, y_train)"
      ]
    },
    {
      "cell_type": "code",
      "execution_count": null,
      "metadata": {
        "colab": {
          "base_uri": "https://localhost:8080/"
        },
        "id": "Jdy3BykNzad8",
        "outputId": "b00d9cc7-9594-4ca4-f4ab-9b13a59b0c71"
      },
      "outputs": [],
      "source": [
        "print(X_train.shape)\n",
        "print(X_train_poly.shape)"
      ]
    },
    {
      "cell_type": "markdown",
      "metadata": {
        "id": "sQ5NFcOXgjHZ"
      },
      "source": [
        "# **4. Evaluate Model**"
      ]
    },
    {
      "cell_type": "code",
      "execution_count": null,
      "metadata": {
        "colab": {
          "base_uri": "https://localhost:8080/"
        },
        "id": "Bt4B7bbygeoj",
        "outputId": "d54f05a5-defe-4585-ebd7-a7165a61fbc9"
      },
      "outputs": [],
      "source": [
        "y_pred = model.predict(X_test_poly)\n",
        "rmse = np.sqrt(mean_squared_error(y_test, y_pred))\n",
        "r2 = r2_score(y_test, y_pred)\n",
        "\n",
        "print(\"Root Mean Squared Error (RMSE):\", rmse)\n",
        "print(\"R2 Score:\", r2)"
      ]
    },
    {
      "cell_type": "code",
      "execution_count": null,
      "metadata": {
        "id": "77pz7_L6goJI"
      },
      "outputs": [],
      "source": []
    }
  ],
  "metadata": {
    "colab": {
      "provenance": []
    },
    "kernelspec": {
      "display_name": "Python 3",
      "name": "python3"
    },
    "language_info": {
      "codemirror_mode": {
        "name": "ipython",
        "version": 3
      },
      "file_extension": ".py",
      "mimetype": "text/x-python",
      "name": "python",
      "nbconvert_exporter": "python",
      "pygments_lexer": "ipython3",
      "version": "3.11.3"
    }
  },
  "nbformat": 4,
  "nbformat_minor": 0
}
