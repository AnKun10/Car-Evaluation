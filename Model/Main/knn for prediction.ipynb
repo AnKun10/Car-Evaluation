{
 "cells": [
  {
   "cell_type": "code",
   "execution_count": 1,
   "metadata": {},
   "outputs": [],
   "source": [
    "import pandas as pd\n",
    "import numpy as np\n",
    "from sklearn.model_selection import train_test_split\n",
    "from sklearn.neighbors import KNeighborsRegressor\n",
    "from sklearn.metrics import mean_squared_error\n",
    "from sklearn.preprocessing import OneHotEncoder, StandardScaler\n"
   ]
  },
  {
   "cell_type": "code",
   "execution_count": 2,
   "metadata": {},
   "outputs": [
    {
     "data": {
      "text/plain": [
       "Index(['origin', 'car_model', 'mileage', 'exterior_color', 'interior_color',\n",
       "       'num_of_doors', 'seating_capacity', 'engine', 'engine_capacity',\n",
       "       'transmission', 'drive_type', 'fuel_consumption', 'brand', 'grade',\n",
       "       'year_of_manufacture', 'car_name', 'price_in_billion'],\n",
       "      dtype='object')"
      ]
     },
     "execution_count": 2,
     "metadata": {},
     "output_type": "execute_result"
    }
   ],
   "source": [
    "df = pd.read_csv(\"Dataset/Final/Remove null, and fill null.csv\")\n",
    "df = df.drop(['url', 'price', 'ad_id', 'condition'], axis=1)\n",
    "df.columns"
   ]
  },
  {
   "cell_type": "code",
   "execution_count": 3,
   "metadata": {},
   "outputs": [],
   "source": [
    "categorical_columns = ['origin', 'car_model', 'exterior_color', 'interior_color', 'engine', 'transmission', 'drive_type', 'brand', 'grade','car_name']\n",
    "target_column = 'price_in_billion'"
   ]
  },
  {
   "cell_type": "code",
   "execution_count": 4,
   "metadata": {},
   "outputs": [
    {
     "name": "stderr",
     "output_type": "stream",
     "text": [
      "d:\\AnacondaFolder\\envs\\first-env\\Lib\\site-packages\\sklearn\\preprocessing\\_encoders.py:972: FutureWarning: `sparse` was renamed to `sparse_output` in version 1.2 and will be removed in 1.4. `sparse_output` is ignored unless you leave `sparse` to its default value.\n",
      "  warnings.warn(\n",
      "d:\\AnacondaFolder\\envs\\first-env\\Lib\\site-packages\\sklearn\\preprocessing\\_encoders.py:227: UserWarning: Found unknown categories in columns [7, 8, 9] during transform. These unknown categories will be encoded as all zeros\n",
      "  warnings.warn(\n",
      "d:\\AnacondaFolder\\envs\\first-env\\Lib\\site-packages\\sklearn\\preprocessing\\_encoders.py:227: UserWarning: Found unknown categories in columns [7, 8, 9] during transform. These unknown categories will be encoded as all zeros\n",
      "  warnings.warn(\n"
     ]
    }
   ],
   "source": [
    "# Chia ma trận đặc trưng và vector nhãn\n",
    "X = df.drop(columns=[target_column])\n",
    "y = df[target_column]\n",
    "\n",
    "\n",
    "X_train, X_, y_train, y_ = train_test_split(X, y, test_size=0.4, random_state=42)\n",
    "X_cv, X_test, y_cv, y_test = train_test_split(X_, y_, test_size=0.5, random_state=42)\n",
    "\n",
    "# Áp dụng One-Hot Encoding cho tập huấn luyện và tập kiểm tra với handle_unknown='ignore'\n",
    "encoder = OneHotEncoder(drop='first', sparse=False, handle_unknown='ignore')\n",
    "encoder.fit(X_train[categorical_columns])\n",
    "\n",
    "X_train_encoded = encoder.transform(X_train[categorical_columns])\n",
    "X_cv_encoded = encoder.transform(X_cv[categorical_columns])\n",
    "X_test_encoded = encoder.transform(X_test[categorical_columns])\n",
    "\n",
    "# Kết hợp lại với các cột không phải categorical\n",
    "scaler = StandardScaler()\n",
    "X_train_encoded = np.hstack((X_train.drop(columns=categorical_columns).values, X_train_encoded))\n",
    "X_train_encoded = scaler.fit_transform(X_train_encoded)\n",
    "\n",
    "X_cv_encoded = np.hstack((X_cv.drop(columns = categorical_columns).values, X_cv_encoded))\n",
    "X_cv_encoded = scaler.transform(X_cv_encoded)\n",
    "\n",
    "X_test_encoded = np.hstack((X_test.drop(columns=categorical_columns).values, X_test_encoded))\n",
    "X_test_encoded = scaler.transform(X_test_encoded)\n",
    "\n"
   ]
  },
  {
   "cell_type": "code",
   "execution_count": 5,
   "metadata": {},
   "outputs": [
    {
     "name": "stdout",
     "output_type": "stream",
     "text": [
      "Baseline MSE: 0.03219406323065822\n"
     ]
    },
    {
     "name": "stderr",
     "output_type": "stream",
     "text": [
      "d:\\AnacondaFolder\\envs\\first-env\\Lib\\site-packages\\sklearn\\preprocessing\\_encoders.py:972: FutureWarning: `sparse` was renamed to `sparse_output` in version 1.2 and will be removed in 1.4. `sparse_output` is ignored unless you leave `sparse` to its default value.\n",
      "  warnings.warn(\n",
      "d:\\AnacondaFolder\\envs\\first-env\\Lib\\site-packages\\sklearn\\preprocessing\\_encoders.py:227: UserWarning: Found unknown categories in columns [6, 7, 8] during transform. These unknown categories will be encoded as all zeros\n",
      "  warnings.warn(\n",
      "d:\\AnacondaFolder\\envs\\first-env\\Lib\\site-packages\\sklearn\\preprocessing\\_encoders.py:972: FutureWarning: `sparse` was renamed to `sparse_output` in version 1.2 and will be removed in 1.4. `sparse_output` is ignored unless you leave `sparse` to its default value.\n",
      "  warnings.warn(\n",
      "d:\\AnacondaFolder\\envs\\first-env\\Lib\\site-packages\\sklearn\\preprocessing\\_encoders.py:227: UserWarning: Found unknown categories in columns [6, 7, 8] during transform. These unknown categories will be encoded as all zeros\n",
      "  warnings.warn(\n",
      "d:\\AnacondaFolder\\envs\\first-env\\Lib\\site-packages\\sklearn\\preprocessing\\_encoders.py:972: FutureWarning: `sparse` was renamed to `sparse_output` in version 1.2 and will be removed in 1.4. `sparse_output` is ignored unless you leave `sparse` to its default value.\n",
      "  warnings.warn(\n",
      "d:\\AnacondaFolder\\envs\\first-env\\Lib\\site-packages\\sklearn\\preprocessing\\_encoders.py:227: UserWarning: Found unknown categories in columns [7, 8, 9] during transform. These unknown categories will be encoded as all zeros\n",
      "  warnings.warn(\n",
      "d:\\AnacondaFolder\\envs\\first-env\\Lib\\site-packages\\sklearn\\preprocessing\\_encoders.py:972: FutureWarning: `sparse` was renamed to `sparse_output` in version 1.2 and will be removed in 1.4. `sparse_output` is ignored unless you leave `sparse` to its default value.\n",
      "  warnings.warn(\n",
      "d:\\AnacondaFolder\\envs\\first-env\\Lib\\site-packages\\sklearn\\preprocessing\\_encoders.py:227: UserWarning: Found unknown categories in columns [6, 7, 8] during transform. These unknown categories will be encoded as all zeros\n",
      "  warnings.warn(\n",
      "d:\\AnacondaFolder\\envs\\first-env\\Lib\\site-packages\\sklearn\\preprocessing\\_encoders.py:972: FutureWarning: `sparse` was renamed to `sparse_output` in version 1.2 and will be removed in 1.4. `sparse_output` is ignored unless you leave `sparse` to its default value.\n",
      "  warnings.warn(\n",
      "d:\\AnacondaFolder\\envs\\first-env\\Lib\\site-packages\\sklearn\\preprocessing\\_encoders.py:227: UserWarning: Found unknown categories in columns [6, 7, 8] during transform. These unknown categories will be encoded as all zeros\n",
      "  warnings.warn(\n",
      "d:\\AnacondaFolder\\envs\\first-env\\Lib\\site-packages\\sklearn\\preprocessing\\_encoders.py:972: FutureWarning: `sparse` was renamed to `sparse_output` in version 1.2 and will be removed in 1.4. `sparse_output` is ignored unless you leave `sparse` to its default value.\n",
      "  warnings.warn(\n",
      "d:\\AnacondaFolder\\envs\\first-env\\Lib\\site-packages\\sklearn\\preprocessing\\_encoders.py:227: UserWarning: Found unknown categories in columns [7, 8, 9] during transform. These unknown categories will be encoded as all zeros\n",
      "  warnings.warn(\n",
      "d:\\AnacondaFolder\\envs\\first-env\\Lib\\site-packages\\sklearn\\preprocessing\\_encoders.py:972: FutureWarning: `sparse` was renamed to `sparse_output` in version 1.2 and will be removed in 1.4. `sparse_output` is ignored unless you leave `sparse` to its default value.\n",
      "  warnings.warn(\n",
      "d:\\AnacondaFolder\\envs\\first-env\\Lib\\site-packages\\sklearn\\preprocessing\\_encoders.py:227: UserWarning: Found unknown categories in columns [7, 8, 9] during transform. These unknown categories will be encoded as all zeros\n",
      "  warnings.warn(\n",
      "d:\\AnacondaFolder\\envs\\first-env\\Lib\\site-packages\\sklearn\\preprocessing\\_encoders.py:972: FutureWarning: `sparse` was renamed to `sparse_output` in version 1.2 and will be removed in 1.4. `sparse_output` is ignored unless you leave `sparse` to its default value.\n",
      "  warnings.warn(\n",
      "d:\\AnacondaFolder\\envs\\first-env\\Lib\\site-packages\\sklearn\\preprocessing\\_encoders.py:227: UserWarning: Found unknown categories in columns [6, 7, 8] during transform. These unknown categories will be encoded as all zeros\n",
      "  warnings.warn(\n",
      "d:\\AnacondaFolder\\envs\\first-env\\Lib\\site-packages\\sklearn\\preprocessing\\_encoders.py:972: FutureWarning: `sparse` was renamed to `sparse_output` in version 1.2 and will be removed in 1.4. `sparse_output` is ignored unless you leave `sparse` to its default value.\n",
      "  warnings.warn(\n",
      "d:\\AnacondaFolder\\envs\\first-env\\Lib\\site-packages\\sklearn\\preprocessing\\_encoders.py:227: UserWarning: Found unknown categories in columns [7, 8, 9] during transform. These unknown categories will be encoded as all zeros\n",
      "  warnings.warn(\n",
      "d:\\AnacondaFolder\\envs\\first-env\\Lib\\site-packages\\sklearn\\preprocessing\\_encoders.py:972: FutureWarning: `sparse` was renamed to `sparse_output` in version 1.2 and will be removed in 1.4. `sparse_output` is ignored unless you leave `sparse` to its default value.\n",
      "  warnings.warn(\n",
      "d:\\AnacondaFolder\\envs\\first-env\\Lib\\site-packages\\sklearn\\preprocessing\\_encoders.py:227: UserWarning: Found unknown categories in columns [6, 7, 8] during transform. These unknown categories will be encoded as all zeros\n",
      "  warnings.warn(\n",
      "d:\\AnacondaFolder\\envs\\first-env\\Lib\\site-packages\\sklearn\\preprocessing\\_encoders.py:972: FutureWarning: `sparse` was renamed to `sparse_output` in version 1.2 and will be removed in 1.4. `sparse_output` is ignored unless you leave `sparse` to its default value.\n",
      "  warnings.warn(\n",
      "d:\\AnacondaFolder\\envs\\first-env\\Lib\\site-packages\\sklearn\\preprocessing\\_encoders.py:227: UserWarning: Found unknown categories in columns [6, 7, 8] during transform. These unknown categories will be encoded as all zeros\n",
      "  warnings.warn(\n",
      "d:\\AnacondaFolder\\envs\\first-env\\Lib\\site-packages\\sklearn\\preprocessing\\_encoders.py:972: FutureWarning: `sparse` was renamed to `sparse_output` in version 1.2 and will be removed in 1.4. `sparse_output` is ignored unless you leave `sparse` to its default value.\n",
      "  warnings.warn(\n",
      "d:\\AnacondaFolder\\envs\\first-env\\Lib\\site-packages\\sklearn\\preprocessing\\_encoders.py:227: UserWarning: Found unknown categories in columns [7, 8, 9] during transform. These unknown categories will be encoded as all zeros\n",
      "  warnings.warn(\n",
      "d:\\AnacondaFolder\\envs\\first-env\\Lib\\site-packages\\sklearn\\preprocessing\\_encoders.py:972: FutureWarning: `sparse` was renamed to `sparse_output` in version 1.2 and will be removed in 1.4. `sparse_output` is ignored unless you leave `sparse` to its default value.\n",
      "  warnings.warn(\n",
      "d:\\AnacondaFolder\\envs\\first-env\\Lib\\site-packages\\sklearn\\preprocessing\\_encoders.py:227: UserWarning: Found unknown categories in columns [7, 8] during transform. These unknown categories will be encoded as all zeros\n",
      "  warnings.warn(\n",
      "d:\\AnacondaFolder\\envs\\first-env\\Lib\\site-packages\\sklearn\\preprocessing\\_encoders.py:972: FutureWarning: `sparse` was renamed to `sparse_output` in version 1.2 and will be removed in 1.4. `sparse_output` is ignored unless you leave `sparse` to its default value.\n",
      "  warnings.warn(\n",
      "d:\\AnacondaFolder\\envs\\first-env\\Lib\\site-packages\\sklearn\\preprocessing\\_encoders.py:227: UserWarning: Found unknown categories in columns [7, 8] during transform. These unknown categories will be encoded as all zeros\n",
      "  warnings.warn(\n",
      "d:\\AnacondaFolder\\envs\\first-env\\Lib\\site-packages\\sklearn\\preprocessing\\_encoders.py:972: FutureWarning: `sparse` was renamed to `sparse_output` in version 1.2 and will be removed in 1.4. `sparse_output` is ignored unless you leave `sparse` to its default value.\n",
      "  warnings.warn(\n",
      "d:\\AnacondaFolder\\envs\\first-env\\Lib\\site-packages\\sklearn\\preprocessing\\_encoders.py:227: UserWarning: Found unknown categories in columns [7, 8, 9] during transform. These unknown categories will be encoded as all zeros\n",
      "  warnings.warn(\n",
      "d:\\AnacondaFolder\\envs\\first-env\\Lib\\site-packages\\sklearn\\preprocessing\\_encoders.py:972: FutureWarning: `sparse` was renamed to `sparse_output` in version 1.2 and will be removed in 1.4. `sparse_output` is ignored unless you leave `sparse` to its default value.\n",
      "  warnings.warn(\n",
      "d:\\AnacondaFolder\\envs\\first-env\\Lib\\site-packages\\sklearn\\preprocessing\\_encoders.py:227: UserWarning: Found unknown categories in columns [7, 8] during transform. These unknown categories will be encoded as all zeros\n",
      "  warnings.warn(\n"
     ]
    },
    {
     "name": "stdout",
     "output_type": "stream",
     "text": [
      "                Feature  Validation MSE\n",
      "13                grade        0.014088\n",
      "10           drive_type        0.006067\n",
      "1             car_model        0.005301\n",
      "7                engine        0.003045\n",
      "11     fuel_consumption        0.001826\n",
      "14  year_of_manufacture        0.001812\n",
      "2               mileage        0.001753\n",
      "8       engine_capacity        0.000210\n",
      "5          num_of_doors        0.000025\n",
      "9          transmission        0.000006\n",
      "4        interior_color       -0.000108\n",
      "0                origin       -0.000310\n",
      "6      seating_capacity       -0.000363\n",
      "3        exterior_color       -0.001061\n",
      "12                brand       -0.002012\n",
      "15             car_name       -0.016198\n"
     ]
    }
   ],
   "source": [
    "# Bước 3: Huấn luyện mô hình KNN Regressor\n",
    "knn = KNeighborsRegressor(n_neighbors=3,  weights='distance', metric='euclidean')\n",
    "knn.fit(X_train_encoded, y_train)\n",
    "\n",
    "# Đo R2 score ban đầu trên tập kiểm tra\n",
    "baseline_mse = mean_squared_error(y_cv, knn.predict(X_cv_encoded))\n",
    "print(f'Baseline MSE: {baseline_mse}')\n",
    "\n",
    "# Bước 4: Đánh giá độ quan trọng của từng đặc trưng gốc\n",
    "def calculate_importance(X_train, X_cv, y_train, y_cv, column):\n",
    "    \n",
    "    # Loại bỏ cột từ tất cả các tập dữ liệu\n",
    "    X_train_without_column = X_train.drop(columns=column)\n",
    "    X_cv_without_column = X_cv.drop(columns=column)\n",
    "    if column in categorical_columns:\n",
    "        updated_categorical_columns = [col for col in categorical_columns if col != column]\n",
    "    else:\n",
    "        updated_categorical_columns = categorical_columns.copy()\n",
    "\t# if column in categorical_columns:\n",
    "\t# \tupdated_categorical_columns = [col for col in categorical_column if col != column]\n",
    "\t# else:\n",
    "\t# \tupdated_categorical_columns = categorical_columns.copy()\n",
    "\n",
    "        \n",
    "\n",
    "    # Áp dụng One-Hot Encoding cho tập huấn luyện, validation và tập kiểm tra mà không bao gồm cột này\n",
    "    encoder_without_column = OneHotEncoder(drop='first', sparse=False, handle_unknown='ignore')\n",
    "    encoder_without_column.fit(X_train_without_column[updated_categorical_columns])\n",
    "\n",
    "    X_train_encoded = encoder_without_column.transform(X_train_without_column[updated_categorical_columns])\n",
    "    X_cv_encoded = encoder_without_column.transform(X_cv_without_column[updated_categorical_columns])\n",
    "    \n",
    "\n",
    "    # Kết hợp lại với các cột không phải categorical\n",
    "    X_train_encoded = np.hstack((X_train_without_column.drop(columns=updated_categorical_columns).values, X_train_encoded))\n",
    "    X_train_encoded = scaler.fit_transform(X_train_encoded)\n",
    "    \n",
    "    X_cv_encoded = np.hstack((X_cv_without_column.drop(columns=updated_categorical_columns).values, X_cv_encoded))\n",
    "    X_cv_encoded = scaler.transform(X_cv_encoded)\n",
    "    \n",
    "    # Huấn luyện và dự đoán\n",
    "    knn.fit(X_train_encoded, y_train)\n",
    "    validation_mse = mean_squared_error(y_cv, knn.predict(X_cv_encoded))\n",
    "\n",
    "    # Tính độ quan trọng\n",
    "    return validation_mse\n",
    "\n",
    "\n",
    "# Tính độ quan trọng cho từng cột gốc\n",
    "feature_importance = []\n",
    "for column in X.columns:\n",
    "    importance = calculate_importance(X_train, X_cv,y_train, y_cv, column) - baseline_mse\n",
    "    if importance is not None:\n",
    "        feature_importance.append((column, importance))\n",
    "\n",
    "# Hiển thị độ quan trọng của từng đặc trưng\n",
    "feature_importance_df = pd.DataFrame(feature_importance, columns=['Feature', 'Validation MSE'])\n",
    "print(feature_importance_df.sort_values(by='Validation MSE', ascending=False))\n"
   ]
  },
  {
   "cell_type": "code",
   "execution_count": 6,
   "metadata": {},
   "outputs": [
    {
     "name": "stdout",
     "output_type": "stream",
     "text": [
      "['car_model', 'mileage', 'num_of_doors', 'engine', 'engine_capacity', 'transmission', 'drive_type', 'fuel_consumption', 'grade', 'year_of_manufacture']\n"
     ]
    },
    {
     "name": "stderr",
     "output_type": "stream",
     "text": [
      "d:\\AnacondaFolder\\envs\\first-env\\Lib\\site-packages\\sklearn\\preprocessing\\_encoders.py:972: FutureWarning: `sparse` was renamed to `sparse_output` in version 1.2 and will be removed in 1.4. `sparse_output` is ignored unless you leave `sparse` to its default value.\n",
      "  warnings.warn(\n",
      "d:\\AnacondaFolder\\envs\\first-env\\Lib\\site-packages\\sklearn\\preprocessing\\_encoders.py:227: UserWarning: Found unknown categories in columns [4] during transform. These unknown categories will be encoded as all zeros\n",
      "  warnings.warn(\n",
      "d:\\AnacondaFolder\\envs\\first-env\\Lib\\site-packages\\sklearn\\preprocessing\\_encoders.py:227: UserWarning: Found unknown categories in columns [4] during transform. These unknown categories will be encoded as all zeros\n",
      "  warnings.warn(\n"
     ]
    }
   ],
   "source": [
    "# Filter features based on importance score\n",
    "selected_features = feature_importance_df[feature_importance_df['Validation MSE'] > 0]['Feature'].tolist()\n",
    "print(selected_features)\n",
    "new_categorical_columns = [x for x in categorical_columns if x in selected_features]\n",
    "\n",
    "# Train a new KNeighborsRegressor model using only the selected features\n",
    "X_train_selected = X_train[selected_features]\n",
    "X_cv_selected = X_cv[selected_features]\n",
    "X_test_selected = X_test[selected_features]\n",
    "\n",
    "# Apply OneHotEncoding to selected categorical columns\n",
    "encoder_selected = OneHotEncoder(drop='first', sparse=False, handle_unknown='ignore')\n",
    "encoder_selected.fit(X_train_selected[new_categorical_columns])\n",
    "\n",
    "X_train_encoded_selected = encoder_selected.transform(X_train_selected[new_categorical_columns])\n",
    "X_cv_encoded_selected = encoder_selected.transform(X_cv_selected[new_categorical_columns])\n",
    "X_test_encoded_selected = encoder_selected.transform(X_test_selected[new_categorical_columns])\n",
    "\n",
    "# Combine with non-categorical columns and scale the features\n",
    "X_train_encoded_selected = np.hstack((X_train_selected.drop(columns=new_categorical_columns).values, X_train_encoded_selected))\n",
    "X_train_encoded_selected = scaler.fit_transform(X_train_encoded_selected)\n",
    "\n",
    "X_cv_encoded_selected = np.hstack((X_cv_selected.drop(columns=new_categorical_columns).values, X_cv_encoded_selected))\n",
    "X_cv_encoded_selected = scaler.transform(X_cv_encoded_selected)\n",
    "\n",
    "X_test_encoded_selected = np.hstack((X_test_selected.drop(columns=new_categorical_columns).values, X_test_encoded_selected))\n",
    "X_test_encoded_selected = scaler.transform(X_test_encoded_selected)"
   ]
  },
  {
   "cell_type": "code",
   "execution_count": 7,
   "metadata": {},
   "outputs": [],
   "source": [
    "# Merge X_train_encoded_selected with X_cv_encoded_selected\n",
    "X_merged_encoded_selected = np.vstack((X_train_encoded_selected, X_cv_encoded_selected))\n",
    "\n",
    "# Create labels to identify the origin of each row\n",
    "y_merged = np.hstack((y_train, y_cv))"
   ]
  },
  {
   "cell_type": "code",
   "execution_count": 8,
   "metadata": {},
   "outputs": [
    {
     "name": "stdout",
     "output_type": "stream",
     "text": [
      "{'metric': 'manhattan', 'n_neighbors': 5, 'weights': 'distance'}\n",
      "Mean Squared Error: 0.009516722486138515\n"
     ]
    }
   ],
   "source": [
    "from sklearn.model_selection import GridSearchCV\n",
    "knn = KNeighborsRegressor()\n",
    "search_space = {\n",
    "\t'n_neighbors': [1, 3, 5, 10, 20],\n",
    "    'metric':['euclidean', 'manhattan', 'minkowski', 'chebyshev'],\n",
    "    'weights': ['uniform', 'distance']\n",
    "}\n",
    "best_model = GridSearchCV(estimator=knn, param_grid=search_space, \n",
    "                          scoring = 'neg_mean_squared_error', cv=5, n_jobs = -1)\n",
    "best_model.fit(X_merged_encoded_selected, y_merged)\n",
    "print(best_model.best_params_)\n",
    "y_pred = best_model.predict(X_test_encoded_selected)\n",
    "mse = mean_squared_error(y_test, y_pred)\n",
    "print(f\"Mean Squared Error: {mse}\")"
   ]
  },
  {
   "cell_type": "code",
   "execution_count": 11,
   "metadata": {},
   "outputs": [
    {
     "name": "stdout",
     "output_type": "stream",
     "text": [
      "**************************************************\n",
      "TRAIN SET:\n",
      "Root mean squared root:  0.037554031867154614\n",
      "R2 Score:  0.9896421389245187\n",
      "**************************************************\n",
      "TEST SET:\n",
      "Root mean squared root:  0.09755369027432287\n",
      "R2 Score:  0.9297841818446584\n"
     ]
    }
   ],
   "source": [
    "from sklearn.metrics import r2_score\n",
    "print('*' * 50)\n",
    "print('TRAIN SET:')\n",
    "print('Root mean squared root: ', np.sqrt(mean_squared_error(best_model.predict(X_merged_encoded_selected), y_merged)))\n",
    "print('R2 Score: ', r2_score(best_model.predict(X_merged_encoded_selected), y_merged))\n",
    "print('*' * 50)\n",
    "print('TEST SET:')\n",
    "print('Root mean squared root: ', np.sqrt(mean_squared_error(best_model.predict(X_test_encoded_selected), y_test)))\n",
    "print('R2 Score: ', r2_score(best_model.predict(X_test_encoded_selected), y_test))"
   ]
  },
  {
   "cell_type": "code",
   "execution_count": null,
   "metadata": {},
   "outputs": [],
   "source": []
  }
 ],
 "metadata": {
  "kernelspec": {
   "display_name": "base",
   "language": "python",
   "name": "python3"
  },
  "language_info": {
   "codemirror_mode": {
    "name": "ipython",
    "version": 3
   },
   "file_extension": ".py",
   "mimetype": "text/x-python",
   "name": "python",
   "nbconvert_exporter": "python",
   "pygments_lexer": "ipython3",
   "version": "3.12.3"
  }
 },
 "nbformat": 4,
 "nbformat_minor": 2
}
