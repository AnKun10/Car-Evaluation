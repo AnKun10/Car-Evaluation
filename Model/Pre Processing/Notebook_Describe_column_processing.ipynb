{
 "cells": [
  {
   "cell_type": "code",
   "execution_count": 1,
   "metadata": {},
   "outputs": [],
   "source": [
    "# import lib\n",
    "import pandas as pd"
   ]
  },
  {
   "cell_type": "code",
   "execution_count": 3,
   "metadata": {},
   "outputs": [
    {
     "data": {
      "text/html": [
       "<div>\n",
       "<style scoped>\n",
       "    .dataframe tbody tr th:only-of-type {\n",
       "        vertical-align: middle;\n",
       "    }\n",
       "\n",
       "    .dataframe tbody tr th {\n",
       "        vertical-align: top;\n",
       "    }\n",
       "\n",
       "    .dataframe thead th {\n",
       "        text-align: right;\n",
       "    }\n",
       "</style>\n",
       "<table border=\"1\" class=\"dataframe\">\n",
       "  <thead>\n",
       "    <tr style=\"text-align: right;\">\n",
       "      <th></th>\n",
       "      <th>ad_id</th>\n",
       "      <th>origin</th>\n",
       "      <th>condition</th>\n",
       "      <th>car_model</th>\n",
       "      <th>mileage</th>\n",
       "      <th>exterior_color</th>\n",
       "      <th>interior_color</th>\n",
       "      <th>num_of_doors</th>\n",
       "      <th>seating_capacity</th>\n",
       "      <th>engine</th>\n",
       "      <th>...</th>\n",
       "      <th>transmission</th>\n",
       "      <th>drive_type</th>\n",
       "      <th>fuel_consumption</th>\n",
       "      <th>describe</th>\n",
       "      <th>brand</th>\n",
       "      <th>grade</th>\n",
       "      <th>year_of_manufacture</th>\n",
       "      <th>car_name</th>\n",
       "      <th>price. price</th>\n",
       "      <th>url</th>\n",
       "    </tr>\n",
       "  </thead>\n",
       "  <tbody>\n",
       "    <tr>\n",
       "      <th>0</th>\n",
       "      <td>17042</td>\n",
       "      <td>Domestic assembly</td>\n",
       "      <td>New car</td>\n",
       "      <td>Truck</td>\n",
       "      <td>0 Km</td>\n",
       "      <td>White</td>\n",
       "      <td>gray</td>\n",
       "      <td>2-door</td>\n",
       "      <td>2-seat</td>\n",
       "      <td>Petrol\\t1.0 L</td>\n",
       "      <td>...</td>\n",
       "      <td>Manual</td>\n",
       "      <td>RFD - Rear-wheel drive</td>\n",
       "      <td>L/100Km</td>\n",
       "      <td>Super Carry Truck 5-pound mezzanine is equipp...</td>\n",
       "      <td>Suzuki</td>\n",
       "      <td>Super Carry Truck</td>\n",
       "      <td>2022.0</td>\n",
       "      <td>Suzuki Super Carry Truck 1.0 MT 2022</td>\n",
       "      <td>249 Million</td>\n",
       "      <td>https://bonbanh.com/xe-suzuki-super_carry_truc...</td>\n",
       "    </tr>\n",
       "  </tbody>\n",
       "</table>\n",
       "<p>1 rows × 21 columns</p>\n",
       "</div>"
      ],
      "text/plain": [
       "   ad_id             origin condition car_model mileage exterior_color  \\\n",
       "0  17042  Domestic assembly   New car     Truck    0 Km          White   \n",
       "\n",
       "  interior_color num_of_doors seating_capacity         engine  ...  \\\n",
       "0           gray       2-door           2-seat  Petrol\\t1.0 L  ...   \n",
       "\n",
       "  transmission              drive_type fuel_consumption  \\\n",
       "0       Manual  RFD - Rear-wheel drive          L/100Km   \n",
       "\n",
       "                                            describe   brand  \\\n",
       "0   Super Carry Truck 5-pound mezzanine is equipp...  Suzuki   \n",
       "\n",
       "               grade year_of_manufacture  \\\n",
       "0  Super Carry Truck              2022.0   \n",
       "\n",
       "                               car_name price. price  \\\n",
       "0  Suzuki Super Carry Truck 1.0 MT 2022  249 Million   \n",
       "\n",
       "                                                 url  \n",
       "0  https://bonbanh.com/xe-suzuki-super_carry_truc...  \n",
       "\n",
       "[1 rows x 21 columns]"
      ]
     },
     "execution_count": 3,
     "metadata": {},
     "output_type": "execute_result"
    }
   ],
   "source": [
    "# read data file\n",
    "car_detail = pd.read_csv('car_detail_en.csv')\n",
    "car_detail.head(1)"
   ]
  },
  {
   "cell_type": "code",
   "execution_count": 13,
   "metadata": {},
   "outputs": [
    {
     "data": {
      "text/html": [
       "<div>\n",
       "<style scoped>\n",
       "    .dataframe tbody tr th:only-of-type {\n",
       "        vertical-align: middle;\n",
       "    }\n",
       "\n",
       "    .dataframe tbody tr th {\n",
       "        vertical-align: top;\n",
       "    }\n",
       "\n",
       "    .dataframe thead th {\n",
       "        text-align: right;\n",
       "    }\n",
       "</style>\n",
       "<table border=\"1\" class=\"dataframe\">\n",
       "  <thead>\n",
       "    <tr style=\"text-align: right;\">\n",
       "      <th></th>\n",
       "      <th>describe</th>\n",
       "    </tr>\n",
       "  </thead>\n",
       "  <tbody>\n",
       "    <tr>\n",
       "      <th>0</th>\n",
       "      <td>Super Carry Truck 5-pound mezzanine is equipp...</td>\n",
       "    </tr>\n",
       "    <tr>\n",
       "      <th>1</th>\n",
       "      <td>New Toyota LANDCRUISER 300, imported from Japa...</td>\n",
       "    </tr>\n",
       "  </tbody>\n",
       "</table>\n",
       "</div>"
      ],
      "text/plain": [
       "                                            describe\n",
       "0   Super Carry Truck 5-pound mezzanine is equipp...\n",
       "1  New Toyota LANDCRUISER 300, imported from Japa..."
      ]
     },
     "execution_count": 13,
     "metadata": {},
     "output_type": "execute_result"
    }
   ],
   "source": [
    "# get column describe\n",
    "describe = car_detail['describe']\n",
    "df_describe = pd.DataFrame(describe, columns=['describe'])\n",
    "df_describe.head(2)"
   ]
  },
  {
   "cell_type": "code",
   "execution_count": 12,
   "metadata": {},
   "outputs": [],
   "source": [
    "# save in to file describe.txt\n",
    "\n",
    "with open('describe.txt', 'w', encoding = 'utf-8') as f:\n",
    "    for index, row in df_describe.iterrows():\n",
    "        if row['describe'] != '0':\n",
    "            f.write(row['describe'] + '\\n')\n"
   ]
  },
  {
   "cell_type": "code",
   "execution_count": 23,
   "metadata": {},
   "outputs": [
    {
     "name": "stdout",
     "output_type": "stream",
     "text": [
      "shape:  (30652, 1)\n",
      "Null count:  84\n"
     ]
    }
   ],
   "source": [
    "#check null-d\n",
    "print('shape: ',df_describe.shape)\n",
    "count_zero_rows = (df_describe['describe'] == '0').sum()\n",
    "print(\"Null count: \", count_zero_rows)"
   ]
  },
  {
   "cell_type": "code",
   "execution_count": null,
   "metadata": {},
   "outputs": [],
   "source": []
  }
 ],
 "metadata": {
  "kernelspec": {
   "display_name": "egg",
   "language": "python",
   "name": "python3"
  },
  "language_info": {
   "codemirror_mode": {
    "name": "ipython",
    "version": 3
   },
   "file_extension": ".py",
   "mimetype": "text/x-python",
   "name": "python",
   "nbconvert_exporter": "python",
   "pygments_lexer": "ipython3",
   "version": "3.11.3"
  }
 },
 "nbformat": 4,
 "nbformat_minor": 2
}
