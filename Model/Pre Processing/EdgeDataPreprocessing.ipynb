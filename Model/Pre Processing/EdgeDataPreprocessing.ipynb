{
 "cells": [
  {
   "cell_type": "code",
   "execution_count": 2,
   "metadata": {},
   "outputs": [],
   "source": [
    "\n"
   ]
  },
  {
   "cell_type": "code",
   "execution_count": 11,
   "metadata": {},
   "outputs": [],
   "source": [
    "from selenium import webdriver\n",
    "from selenium.webdriver.edge.service import Service\n",
    "from selenium.webdriver.edge.options import Options\n",
    "options = Options()\n",
    "# Replace the path below with the actual path to your Edge user data directory\n",
    "user_data_dir = r\"C:\\Users\\fpt47\\AppData\\Local\\Microsoft\\Edge\\User Data\\Default\"\n",
    "options.add_argument(f\"--user-data-dir={user_data_dir}\")\n",
    "# options.add_argument(\"--profile-directory = Profile%201\")\n",
    "service = Service(executable_path = r\"D:\\fpt47\\Downloads\\Driver_Notes\\msedgedriver.exe\")\n",
    "\n",
    "driver = webdriver.Edge(service = service, options = options)\n",
    "\n",
    "script = \"window.open('', '_blank');\"\n",
    "driver.execute_script(script)\n",
    "\n",
    "for window_handle in driver.window_handles:\n",
    "    if window_handle != driver.current_window_handle:\n",
    "        driver.switch_to.window(window_handle)\n",
    "        break"
   ]
  }
 ],
 "metadata": {
  "kernelspec": {
   "display_name": "Python 3",
   "language": "python",
   "name": "python3"
  },
  "language_info": {
   "codemirror_mode": {
    "name": "ipython",
    "version": 3
   },
   "file_extension": ".py",
   "mimetype": "text/x-python",
   "name": "python",
   "nbconvert_exporter": "python",
   "pygments_lexer": "ipython3",
   "version": "3.11.2"
  }
 },
 "nbformat": 4,
 "nbformat_minor": 2
}
