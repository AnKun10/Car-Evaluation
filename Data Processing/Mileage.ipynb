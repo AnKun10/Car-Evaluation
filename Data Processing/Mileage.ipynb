{
 "cells": [
  {
   "cell_type": "code",
   "execution_count": 1,
   "metadata": {},
   "outputs": [],
   "source": [
    "import re\n",
    "import pandas as pd \n",
    "# Các đoạn mô tả\n"
   ]
  },
  {
   "cell_type": "code",
   "execution_count": 12,
   "metadata": {},
   "outputs": [],
   "source": [
    "\n",
    "\n",
    "def split_sentences_on_plus_minus(text):\n",
    "    regex = r'\\s+([+-])\\s+'\n",
    "    sentences = re.split(regex, text)\n",
    "    output = []\n",
    "    for i in range(len(sentences)):\n",
    "        if sentences[i].strip() in ['+', '-']:\n",
    "            output.append(sentences[i] + sentences[i+1])\n",
    "        elif sentences[i-1].strip() not in ['+', '-']and i > 0:\n",
    "            output.append(sentences[i])\n",
    "    return output\n",
    "\n",
    "def extract_sentences(text):\n",
    "    # Biểu thức chính quy để tìm câu chứa từ 'fee', '%' hoặc 'VND'\n",
    "    regex = r'[^.!?]*?(mile|km)[^.!?]*?[.!?]'\n",
    "    \n",
    "    # Tìm các câu phù hợp với biểu thức chính quy\n",
    "    matches = re.finditer(regex, text)\n",
    "    \n",
    "    # Tạo danh sách các câu phù hợp\n",
    "    sentences = [match.group(0).strip() for match in matches]\n",
    "    \n",
    "    return sentences\n",
    "\n",
    "def process_descriptions(df):\n",
    "    # Duyệt qua từng hàng trong cột 'describe'\n",
    "    for index, row in df.iterrows():\n",
    "        sentences = extract_sentences(row['describe'])  # Trích xuất các câu từ mô tả\n",
    "        processed_sentences = []  # Danh sách các câu đã được xử lý\n",
    "        # Duyệt qua các câu đã trích xuất\n",
    "        for sentence in sentences:\n",
    "            sentence_x = split_sentences_on_plus_minus(sentence)\n",
    "            processed_sentences.extend(sentence_x)  # Thêm câu đã xử lý vào danh sách\n",
    "        # Ghép các câu đã xử lý lại thành một đoạn văn và ghi vào DataFrame\n",
    "        processed_text = \" \".join(processed_sentences)\n",
    "        df.at[index, 'describe'] = processed_text\n",
    "\n",
    "def count_empty_rows_in_describe_column(df):\n",
    "    # Đếm số hàng có giá trị rỗng (dấu trống hoặc NaN)\n",
    "    empty_rows_count = df['describe'].apply(lambda x: x.strip() != '').sum()\n",
    "    return empty_rows_count\n",
    "\n"
   ]
  },
  {
   "cell_type": "code",
   "execution_count": 13,
   "metadata": {},
   "outputs": [
    {
     "name": "stdout",
     "output_type": "stream",
     "text": [
      "1646\n",
      "0     \n",
      "1     \n",
      "2     \n",
      "3     \n",
      "4     \n",
      "5     \n",
      "6     \n",
      "7     \n",
      "8     \n",
      "9     \n",
      "10    \n",
      "11    \n",
      "12    \n",
      "13    \n",
      "14    \n",
      "15    \n",
      "16    \n",
      "17    \n",
      "18    \n",
      "19    \n",
      "Name: describe, dtype: object\n"
     ]
    },
    {
     "data": {
      "text/plain": [
       "(30652, 21)"
      ]
     },
     "execution_count": 13,
     "metadata": {},
     "output_type": "execute_result"
    }
   ],
   "source": [
    "df = pd.read_csv('car_detail_en.csv')\n",
    "process_descriptions(df)\n",
    "empty_rows_count = count_empty_rows_in_describe_column(df)\n",
    "print(empty_rows_count)\n",
    "print(df['describe'].head(20))\n",
    "df.shape"
   ]
  },
  {
   "cell_type": "code",
   "execution_count": 14,
   "metadata": {},
   "outputs": [
    {
     "name": "stdout",
     "output_type": "stream",
     "text": [
      "52       -5 years/100,00km manufacturer warranty Dimens...\n",
      "58       -Cash discount and free high-end accessories p...\n",
      "86       -3 years or 200,000 km, whichever comes first ...\n",
      "112      +Chance to win a TV and a Vespa displayed at t...\n",
      "123      -80% Preferential interest rate, neat document...\n",
      "                               ...                        \n",
      "30564    -Vehicle equipped: genuine leather seats, scre...\n",
      "30606    -Provincial license plate -Odo: 14,000km price...\n",
      "30615    -Provincial license plate -Odo: 35,000km Price...\n",
      "30626     -beautiful car with screen, full reverse camera.\n",
      "30650    -full LED headlight cluster with 2-layer desig...\n",
      "Name: describe, Length: 1646, dtype: object\n"
     ]
    }
   ],
   "source": [
    "result = df[df['describe'].apply(lambda x: x.strip() != '')]\n",
    "print(result['describe'])"
   ]
  },
  {
   "cell_type": "code",
   "execution_count": 15,
   "metadata": {},
   "outputs": [
    {
     "data": {
      "text/plain": [
       "(1646, 21)"
      ]
     },
     "execution_count": 15,
     "metadata": {},
     "output_type": "execute_result"
    }
   ],
   "source": [
    "result.shape"
   ]
  },
  {
   "cell_type": "code",
   "execution_count": null,
   "metadata": {},
   "outputs": [],
   "source": [
    "result.to_csv('mileage.csv')"
   ]
  }
 ],
 "metadata": {
  "kernelspec": {
   "display_name": "egg",
   "language": "python",
   "name": "python3"
  },
  "language_info": {
   "codemirror_mode": {
    "name": "ipython",
    "version": 3
   },
   "file_extension": ".py",
   "mimetype": "text/x-python",
   "name": "python",
   "nbconvert_exporter": "python",
   "pygments_lexer": "ipython3",
   "version": "3.11.3"
  }
 },
 "nbformat": 4,
 "nbformat_minor": 2
}
